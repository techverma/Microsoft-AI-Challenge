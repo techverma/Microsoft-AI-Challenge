{
 "cells": [
  {
   "cell_type": "code",
   "execution_count": 1,
   "metadata": {
    "collapsed": true
   },
   "outputs": [],
   "source": [
    "import pandas as pd\n",
    "import numpy as np"
   ]
  },
  {
   "cell_type": "markdown",
   "metadata": {},
   "source": [
    "### 1. Load data"
   ]
  },
  {
   "cell_type": "code",
   "execution_count": 2,
   "metadata": {
    "collapsed": true
   },
   "outputs": [],
   "source": [
    "raw_df = pd.read_csv('data/raw/query_train.csv', skiprows=0, sep='|')\n",
    "test_df = pd.read_csv('data/raw/query_test.csv', skiprows=0, sep='|')"
   ]
  },
  {
   "cell_type": "code",
   "execution_count": 3,
   "metadata": {
    "collapsed": true
   },
   "outputs": [],
   "source": [
    "raw_df.columns = ['query_id', 'query', 'label']\n",
    "test_df.columns = ['query_id', 'query']"
   ]
  },
  {
   "cell_type": "code",
   "execution_count": 4,
   "metadata": {},
   "outputs": [
    {
     "data": {
      "text/html": [
       "<div>\n",
       "<style>\n",
       "    .dataframe thead tr:only-child th {\n",
       "        text-align: right;\n",
       "    }\n",
       "\n",
       "    .dataframe thead th {\n",
       "        text-align: left;\n",
       "    }\n",
       "\n",
       "    .dataframe tbody tr th {\n",
       "        vertical-align: top;\n",
       "    }\n",
       "</style>\n",
       "<table border=\"1\" class=\"dataframe\">\n",
       "  <thead>\n",
       "    <tr style=\"text-align: right;\">\n",
       "      <th></th>\n",
       "      <th>query_id</th>\n",
       "      <th>query</th>\n",
       "      <th>label</th>\n",
       "    </tr>\n",
       "  </thead>\n",
       "  <tbody>\n",
       "    <tr>\n",
       "      <th>0</th>\n",
       "      <td>1</td>\n",
       "      <td>fertilizer use of paddy crops ....?</td>\n",
       "      <td>1</td>\n",
       "    </tr>\n",
       "    <tr>\n",
       "      <th>1</th>\n",
       "      <td>2</td>\n",
       "      <td>Information regarding weather in FATEHABAD?</td>\n",
       "      <td>8</td>\n",
       "    </tr>\n",
       "    <tr>\n",
       "      <th>2</th>\n",
       "      <td>3</td>\n",
       "      <td>REGARDING ANIMAL HUSBANDRY?</td>\n",
       "      <td>8</td>\n",
       "    </tr>\n",
       "    <tr>\n",
       "      <th>3</th>\n",
       "      <td>4</td>\n",
       "      <td>TELL ME SUBSIDY ON SUGARCANE THRASH CUTTER.</td>\n",
       "      <td>3</td>\n",
       "    </tr>\n",
       "    <tr>\n",
       "      <th>4</th>\n",
       "      <td>5</td>\n",
       "      <td>TELL M E ABOUT WHITEGROUB CONTROIL IN PENUT ?</td>\n",
       "      <td>6</td>\n",
       "    </tr>\n",
       "  </tbody>\n",
       "</table>\n",
       "</div>"
      ],
      "text/plain": [
       "   query_id                                          query  label\n",
       "0         1            fertilizer use of paddy crops ....?      1\n",
       "1         2    Information regarding weather in FATEHABAD?      8\n",
       "2         3                    REGARDING ANIMAL HUSBANDRY?      8\n",
       "3         4    TELL ME SUBSIDY ON SUGARCANE THRASH CUTTER.      3\n",
       "4         5  TELL M E ABOUT WHITEGROUB CONTROIL IN PENUT ?      6"
      ]
     },
     "execution_count": 4,
     "metadata": {},
     "output_type": "execute_result"
    }
   ],
   "source": [
    "raw_df.head()"
   ]
  },
  {
   "cell_type": "code",
   "execution_count": 76,
   "metadata": {},
   "outputs": [
    {
     "data": {
      "text/html": [
       "<div>\n",
       "<style>\n",
       "    .dataframe thead tr:only-child th {\n",
       "        text-align: right;\n",
       "    }\n",
       "\n",
       "    .dataframe thead th {\n",
       "        text-align: left;\n",
       "    }\n",
       "\n",
       "    .dataframe tbody tr th {\n",
       "        vertical-align: top;\n",
       "    }\n",
       "</style>\n",
       "<table border=\"1\" class=\"dataframe\">\n",
       "  <thead>\n",
       "    <tr style=\"text-align: right;\">\n",
       "      <th></th>\n",
       "      <th>query_id</th>\n",
       "      <th>query</th>\n",
       "    </tr>\n",
       "  </thead>\n",
       "  <tbody>\n",
       "    <tr>\n",
       "      <th>0</th>\n",
       "      <td>1</td>\n",
       "      <td>ASKED ABOUT ATTACK APHIDS ON TUR?</td>\n",
       "    </tr>\n",
       "    <tr>\n",
       "      <th>1</th>\n",
       "      <td>2</td>\n",
       "      <td>ASKED ABOUT ATTACK BLIGHT ON SOYBEAN?</td>\n",
       "    </tr>\n",
       "    <tr>\n",
       "      <th>2</th>\n",
       "      <td>3</td>\n",
       "      <td>ASKED ABOUT ATTACK FUNGAL ATTACK ON CHILLI?</td>\n",
       "    </tr>\n",
       "    <tr>\n",
       "      <th>3</th>\n",
       "      <td>4</td>\n",
       "      <td>ASKED ABOUT ATTACK OF SUCKING PEST ON SOYABEAN ?</td>\n",
       "    </tr>\n",
       "    <tr>\n",
       "      <th>4</th>\n",
       "      <td>5</td>\n",
       "      <td>ASKED ABOUT ATTACK RED MITES ON COTTON?</td>\n",
       "    </tr>\n",
       "  </tbody>\n",
       "</table>\n",
       "</div>"
      ],
      "text/plain": [
       "   query_id                                             query\n",
       "0         1                 ASKED ABOUT ATTACK APHIDS ON TUR?\n",
       "1         2             ASKED ABOUT ATTACK BLIGHT ON SOYBEAN?\n",
       "2         3       ASKED ABOUT ATTACK FUNGAL ATTACK ON CHILLI?\n",
       "3         4  ASKED ABOUT ATTACK OF SUCKING PEST ON SOYABEAN ?\n",
       "4         5           ASKED ABOUT ATTACK RED MITES ON COTTON?"
      ]
     },
     "execution_count": 76,
     "metadata": {},
     "output_type": "execute_result"
    }
   ],
   "source": [
    "test_df.head()"
   ]
  },
  {
   "cell_type": "code",
   "execution_count": 29,
   "metadata": {},
   "outputs": [
    {
     "data": {
      "text/plain": [
       "query_id    100622\n",
       "query       100618\n",
       "label       100622\n",
       "dtype: int64"
      ]
     },
     "execution_count": 29,
     "metadata": {},
     "output_type": "execute_result"
    }
   ],
   "source": [
    "raw_df.count()"
   ]
  },
  {
   "cell_type": "markdown",
   "metadata": {},
   "source": [
    "As can be observed, there are 4 NaN values in the `query` column."
   ]
  },
  {
   "cell_type": "code",
   "execution_count": 30,
   "metadata": {},
   "outputs": [
    {
     "data": {
      "text/plain": [
       "query_id         16032\n",
       "query            16032\n",
       "cleaned_query    16032\n",
       "dtype: int64"
      ]
     },
     "execution_count": 30,
     "metadata": {},
     "output_type": "execute_result"
    }
   ],
   "source": [
    "test_df.count()"
   ]
  },
  {
   "cell_type": "markdown",
   "metadata": {},
   "source": [
    "### 2. Split raw data"
   ]
  },
  {
   "cell_type": "code",
   "execution_count": 5,
   "metadata": {
    "collapsed": true
   },
   "outputs": [],
   "source": [
    "from sklearn.model_selection import train_test_split"
   ]
  },
  {
   "cell_type": "code",
   "execution_count": 6,
   "metadata": {
    "collapsed": true
   },
   "outputs": [],
   "source": [
    "raw_train_df, raw_valid_df = train_test_split(raw_df, stratify=raw_df['label'], test_size=0.2)"
   ]
  },
  {
   "cell_type": "code",
   "execution_count": 7,
   "metadata": {},
   "outputs": [
    {
     "data": {
      "text/plain": [
       "array([[ 1.        ,  0.99999999],\n",
       "       [ 0.99999999,  1.        ]])"
      ]
     },
     "execution_count": 7,
     "metadata": {},
     "output_type": "execute_result"
    }
   ],
   "source": [
    "np.corrcoef(raw_train_df.label.value_counts(), raw_valid_df.label.value_counts())"
   ]
  },
  {
   "cell_type": "code",
   "execution_count": 23,
   "metadata": {
    "collapsed": true
   },
   "outputs": [],
   "source": [
    "raw_train_df.to_csv('data/processed/raw_train.csv', sep=',', index=False)\n",
    "raw_valid_df.to_csv('data/processed/raw_valid.csv', sep=',', index=False)"
   ]
  },
  {
   "cell_type": "markdown",
   "metadata": {},
   "source": [
    "### 3. Add feature columns"
   ]
  },
  {
   "cell_type": "code",
   "execution_count": 9,
   "metadata": {
    "collapsed": true
   },
   "outputs": [],
   "source": [
    "df_1 = raw_df"
   ]
  },
  {
   "cell_type": "code",
   "execution_count": 10,
   "metadata": {
    "collapsed": true
   },
   "outputs": [],
   "source": [
    "df_1 = df_1[df_1['query'].notnull()]"
   ]
  },
  {
   "cell_type": "code",
   "execution_count": 11,
   "metadata": {
    "collapsed": true
   },
   "outputs": [],
   "source": [
    "temp_df = test_df[test_df['query'].notnull()]"
   ]
  },
  {
   "cell_type": "code",
   "execution_count": 12,
   "metadata": {
    "collapsed": true
   },
   "outputs": [],
   "source": [
    "assert len(temp_df) == len(test_df)"
   ]
  },
  {
   "cell_type": "markdown",
   "metadata": {},
   "source": [
    "#### a. Get query length"
   ]
  },
  {
   "cell_type": "code",
   "execution_count": 24,
   "metadata": {
    "collapsed": true
   },
   "outputs": [
    {
     "name": "stderr",
     "output_type": "stream",
     "text": [
      "C:\\Users\\kessingh\\AppData\\Local\\Continuum\\Anaconda3\\lib\\site-packages\\ipykernel_launcher.py:1: SettingWithCopyWarning: \n",
      "A value is trying to be set on a copy of a slice from a DataFrame.\n",
      "Try using .loc[row_indexer,col_indexer] = value instead\n",
      "\n",
      "See the caveats in the documentation: http://pandas.pydata.org/pandas-docs/stable/indexing.html#indexing-view-versus-copy\n",
      "  \"\"\"Entry point for launching an IPython kernel.\n"
     ]
    }
   ],
   "source": [
    "df_1['len_query'] = df_1.apply(lambda row: len(row.query.split(' ')), axis=1)"
   ]
  },
  {
   "cell_type": "code",
   "execution_count": 25,
   "metadata": {},
   "outputs": [
    {
     "data": {
      "text/html": [
       "<div>\n",
       "<style>\n",
       "    .dataframe thead tr:only-child th {\n",
       "        text-align: right;\n",
       "    }\n",
       "\n",
       "    .dataframe thead th {\n",
       "        text-align: left;\n",
       "    }\n",
       "\n",
       "    .dataframe tbody tr th {\n",
       "        vertical-align: top;\n",
       "    }\n",
       "</style>\n",
       "<table border=\"1\" class=\"dataframe\">\n",
       "  <thead>\n",
       "    <tr style=\"text-align: right;\">\n",
       "      <th></th>\n",
       "      <th>query_id</th>\n",
       "      <th>query</th>\n",
       "      <th>label</th>\n",
       "      <th>len_query</th>\n",
       "    </tr>\n",
       "  </thead>\n",
       "  <tbody>\n",
       "    <tr>\n",
       "      <th>0</th>\n",
       "      <td>2</td>\n",
       "      <td>Information regarding weather in FATEHABAD?</td>\n",
       "      <td>8</td>\n",
       "      <td>5</td>\n",
       "    </tr>\n",
       "    <tr>\n",
       "      <th>1</th>\n",
       "      <td>3</td>\n",
       "      <td>REGARDING ANIMAL HUSBANDRY?</td>\n",
       "      <td>8</td>\n",
       "      <td>3</td>\n",
       "    </tr>\n",
       "    <tr>\n",
       "      <th>2</th>\n",
       "      <td>4</td>\n",
       "      <td>TELL ME SUBSIDY ON SUGARCANE THRASH CUTTER.</td>\n",
       "      <td>3</td>\n",
       "      <td>7</td>\n",
       "    </tr>\n",
       "    <tr>\n",
       "      <th>3</th>\n",
       "      <td>5</td>\n",
       "      <td>TELL M E ABOUT WHITEGROUB CONTROIL IN PENUT ?</td>\n",
       "      <td>6</td>\n",
       "      <td>9</td>\n",
       "    </tr>\n",
       "    <tr>\n",
       "      <th>4</th>\n",
       "      <td>6</td>\n",
       "      <td>Information regarding how to control becterial...</td>\n",
       "      <td>6</td>\n",
       "      <td>13</td>\n",
       "    </tr>\n",
       "  </tbody>\n",
       "</table>\n",
       "</div>"
      ],
      "text/plain": [
       "   query_id                                              query  label  \\\n",
       "0         2        Information regarding weather in FATEHABAD?      8   \n",
       "1         3                        REGARDING ANIMAL HUSBANDRY?      8   \n",
       "2         4        TELL ME SUBSIDY ON SUGARCANE THRASH CUTTER.      3   \n",
       "3         5      TELL M E ABOUT WHITEGROUB CONTROIL IN PENUT ?      6   \n",
       "4         6  Information regarding how to control becterial...      6   \n",
       "\n",
       "   len_query  \n",
       "0          5  \n",
       "1          3  \n",
       "2          7  \n",
       "3          9  \n",
       "4         13  "
      ]
     },
     "execution_count": 25,
     "metadata": {},
     "output_type": "execute_result"
    }
   ],
   "source": [
    "df_1.head()"
   ]
  },
  {
   "cell_type": "markdown",
   "metadata": {},
   "source": [
    "#### b. Clean text"
   ]
  },
  {
   "cell_type": "code",
   "execution_count": 13,
   "metadata": {
    "collapsed": true
   },
   "outputs": [],
   "source": [
    "def clean_text(query):\n",
    "    #filter out punctuation\n",
    "    import re\n",
    "    query = re.sub('[^\\w\\s]','',query)\n",
    "    \n",
    "    #split into words\n",
    "    from nltk.tokenize import word_tokenize\n",
    "    words = word_tokenize(query)\n",
    "    \n",
    "#     #single label for all non-alphabets\n",
    "#     num_token = '<num>'\n",
    "#     words = [num_token if word.isnumeric() else word for word in words]\n",
    "    \n",
    "    #convert to lower case\n",
    "    words = [word.lower() for word in words]\n",
    "    \n",
    "    return ' '.join(words)"
   ]
  },
  {
   "cell_type": "code",
   "execution_count": 14,
   "metadata": {},
   "outputs": [
    {
     "name": "stdout",
     "output_type": "stream",
     "text": [
      "tell m e about whitegroub 12 controil in penut\n"
     ]
    }
   ],
   "source": [
    "out = clean_text('TELL M E ABOUT WHITEGROUB 12 CONTROIL IN PENUT ?')\n",
    "print(out)"
   ]
  },
  {
   "cell_type": "code",
   "execution_count": 15,
   "metadata": {
    "collapsed": true
   },
   "outputs": [
    {
     "name": "stderr",
     "output_type": "stream",
     "text": [
      "C:\\Users\\kessingh\\AppData\\Local\\Continuum\\Anaconda3\\lib\\site-packages\\ipykernel_launcher.py:1: SettingWithCopyWarning: \n",
      "A value is trying to be set on a copy of a slice from a DataFrame.\n",
      "Try using .loc[row_indexer,col_indexer] = value instead\n",
      "\n",
      "See the caveats in the documentation: http://pandas.pydata.org/pandas-docs/stable/indexing.html#indexing-view-versus-copy\n",
      "  \"\"\"Entry point for launching an IPython kernel.\n"
     ]
    }
   ],
   "source": [
    "df_1['cleaned_query'] = df_1.apply(lambda row: clean_text(row.query), axis=1)"
   ]
  },
  {
   "cell_type": "code",
   "execution_count": 16,
   "metadata": {
    "collapsed": true
   },
   "outputs": [],
   "source": [
    "test_df['cleaned_query'] = test_df.apply(lambda row: clean_text(row.query), axis=1)"
   ]
  },
  {
   "cell_type": "code",
   "execution_count": 17,
   "metadata": {
    "scrolled": true
   },
   "outputs": [
    {
     "data": {
      "text/html": [
       "<div>\n",
       "<style>\n",
       "    .dataframe thead tr:only-child th {\n",
       "        text-align: right;\n",
       "    }\n",
       "\n",
       "    .dataframe thead th {\n",
       "        text-align: left;\n",
       "    }\n",
       "\n",
       "    .dataframe tbody tr th {\n",
       "        vertical-align: top;\n",
       "    }\n",
       "</style>\n",
       "<table border=\"1\" class=\"dataframe\">\n",
       "  <thead>\n",
       "    <tr style=\"text-align: right;\">\n",
       "      <th></th>\n",
       "      <th>query_id</th>\n",
       "      <th>query</th>\n",
       "      <th>label</th>\n",
       "      <th>cleaned_query</th>\n",
       "    </tr>\n",
       "  </thead>\n",
       "  <tbody>\n",
       "    <tr>\n",
       "      <th>0</th>\n",
       "      <td>1</td>\n",
       "      <td>fertilizer use of paddy crops ....?</td>\n",
       "      <td>1</td>\n",
       "      <td>fertilizer use of paddy crops</td>\n",
       "    </tr>\n",
       "    <tr>\n",
       "      <th>1</th>\n",
       "      <td>2</td>\n",
       "      <td>Information regarding weather in FATEHABAD?</td>\n",
       "      <td>8</td>\n",
       "      <td>information regarding weather in fatehabad</td>\n",
       "    </tr>\n",
       "    <tr>\n",
       "      <th>2</th>\n",
       "      <td>3</td>\n",
       "      <td>REGARDING ANIMAL HUSBANDRY?</td>\n",
       "      <td>8</td>\n",
       "      <td>regarding animal husbandry</td>\n",
       "    </tr>\n",
       "    <tr>\n",
       "      <th>3</th>\n",
       "      <td>4</td>\n",
       "      <td>TELL ME SUBSIDY ON SUGARCANE THRASH CUTTER.</td>\n",
       "      <td>3</td>\n",
       "      <td>tell me subsidy on sugarcane thrash cutter</td>\n",
       "    </tr>\n",
       "    <tr>\n",
       "      <th>4</th>\n",
       "      <td>5</td>\n",
       "      <td>TELL M E ABOUT WHITEGROUB CONTROIL IN PENUT ?</td>\n",
       "      <td>6</td>\n",
       "      <td>tell m e about whitegroub controil in penut</td>\n",
       "    </tr>\n",
       "  </tbody>\n",
       "</table>\n",
       "</div>"
      ],
      "text/plain": [
       "   query_id                                          query  label  \\\n",
       "0         1            fertilizer use of paddy crops ....?      1   \n",
       "1         2    Information regarding weather in FATEHABAD?      8   \n",
       "2         3                    REGARDING ANIMAL HUSBANDRY?      8   \n",
       "3         4    TELL ME SUBSIDY ON SUGARCANE THRASH CUTTER.      3   \n",
       "4         5  TELL M E ABOUT WHITEGROUB CONTROIL IN PENUT ?      6   \n",
       "\n",
       "                                 cleaned_query  \n",
       "0                fertilizer use of paddy crops  \n",
       "1   information regarding weather in fatehabad  \n",
       "2                   regarding animal husbandry  \n",
       "3   tell me subsidy on sugarcane thrash cutter  \n",
       "4  tell m e about whitegroub controil in penut  "
      ]
     },
     "execution_count": 17,
     "metadata": {},
     "output_type": "execute_result"
    }
   ],
   "source": [
    "df_1.head()"
   ]
  },
  {
   "cell_type": "code",
   "execution_count": 18,
   "metadata": {},
   "outputs": [
    {
     "data": {
      "text/html": [
       "<div>\n",
       "<style>\n",
       "    .dataframe thead tr:only-child th {\n",
       "        text-align: right;\n",
       "    }\n",
       "\n",
       "    .dataframe thead th {\n",
       "        text-align: left;\n",
       "    }\n",
       "\n",
       "    .dataframe tbody tr th {\n",
       "        vertical-align: top;\n",
       "    }\n",
       "</style>\n",
       "<table border=\"1\" class=\"dataframe\">\n",
       "  <thead>\n",
       "    <tr style=\"text-align: right;\">\n",
       "      <th></th>\n",
       "      <th>query_id</th>\n",
       "      <th>query</th>\n",
       "      <th>cleaned_query</th>\n",
       "    </tr>\n",
       "  </thead>\n",
       "  <tbody>\n",
       "    <tr>\n",
       "      <th>0</th>\n",
       "      <td>1</td>\n",
       "      <td>ASKED ABOUT ATTACK APHIDS ON TUR?</td>\n",
       "      <td>asked about attack aphids on tur</td>\n",
       "    </tr>\n",
       "    <tr>\n",
       "      <th>1</th>\n",
       "      <td>2</td>\n",
       "      <td>ASKED ABOUT ATTACK BLIGHT ON SOYBEAN?</td>\n",
       "      <td>asked about attack blight on soybean</td>\n",
       "    </tr>\n",
       "    <tr>\n",
       "      <th>2</th>\n",
       "      <td>3</td>\n",
       "      <td>ASKED ABOUT ATTACK FUNGAL ATTACK ON CHILLI?</td>\n",
       "      <td>asked about attack fungal attack on chilli</td>\n",
       "    </tr>\n",
       "    <tr>\n",
       "      <th>3</th>\n",
       "      <td>4</td>\n",
       "      <td>ASKED ABOUT ATTACK OF SUCKING PEST ON SOYABEAN ?</td>\n",
       "      <td>asked about attack of sucking pest on soyabean</td>\n",
       "    </tr>\n",
       "    <tr>\n",
       "      <th>4</th>\n",
       "      <td>5</td>\n",
       "      <td>ASKED ABOUT ATTACK RED MITES ON COTTON?</td>\n",
       "      <td>asked about attack red mites on cotton</td>\n",
       "    </tr>\n",
       "  </tbody>\n",
       "</table>\n",
       "</div>"
      ],
      "text/plain": [
       "   query_id                                             query  \\\n",
       "0         1                 ASKED ABOUT ATTACK APHIDS ON TUR?   \n",
       "1         2             ASKED ABOUT ATTACK BLIGHT ON SOYBEAN?   \n",
       "2         3       ASKED ABOUT ATTACK FUNGAL ATTACK ON CHILLI?   \n",
       "3         4  ASKED ABOUT ATTACK OF SUCKING PEST ON SOYABEAN ?   \n",
       "4         5           ASKED ABOUT ATTACK RED MITES ON COTTON?   \n",
       "\n",
       "                                    cleaned_query  \n",
       "0                asked about attack aphids on tur  \n",
       "1            asked about attack blight on soybean  \n",
       "2      asked about attack fungal attack on chilli  \n",
       "3  asked about attack of sucking pest on soyabean  \n",
       "4          asked about attack red mites on cotton  "
      ]
     },
     "execution_count": 18,
     "metadata": {},
     "output_type": "execute_result"
    }
   ],
   "source": [
    "test_df.head()"
   ]
  },
  {
   "cell_type": "markdown",
   "metadata": {},
   "source": [
    "#### Save files"
   ]
  },
  {
   "cell_type": "code",
   "execution_count": 19,
   "metadata": {
    "collapsed": true
   },
   "outputs": [],
   "source": [
    "processed_train_df, processed_valid_df = train_test_split(df_1[['query_id', 'cleaned_query', 'label']], stratify=df_1['label'], test_size=0.2)"
   ]
  },
  {
   "cell_type": "code",
   "execution_count": 20,
   "metadata": {
    "collapsed": true
   },
   "outputs": [],
   "source": [
    "processed_test_df = test_df[['query_id', 'cleaned_query']]"
   ]
  },
  {
   "cell_type": "code",
   "execution_count": 43,
   "metadata": {
    "collapsed": true
   },
   "outputs": [],
   "source": [
    "processed_train_df.to_csv('data/processed/processed_train.csv', sep=',', index=False)\n",
    "processed_valid_df.to_csv('data/processed/processed_valid.csv', sep=',', index=False)\n",
    "processed_test_df.to_csv('data/processed/processed_test.csv', sep=',', index=False)"
   ]
  },
  {
   "cell_type": "code",
   "execution_count": null,
   "metadata": {
    "collapsed": true
   },
   "outputs": [],
   "source": []
  },
  {
   "cell_type": "code",
   "execution_count": null,
   "metadata": {
    "collapsed": true
   },
   "outputs": [],
   "source": []
  },
  {
   "cell_type": "code",
   "execution_count": 36,
   "metadata": {
    "scrolled": true
   },
   "outputs": [
    {
     "data": {
      "text/plain": [
       "count    100617.000000\n",
       "mean          6.987447\n",
       "std          11.086267\n",
       "min           1.000000\n",
       "25%           5.000000\n",
       "50%           6.000000\n",
       "75%           8.000000\n",
       "max        3118.000000\n",
       "Name: len_query, dtype: float64"
      ]
     },
     "execution_count": 36,
     "metadata": {},
     "output_type": "execute_result"
    }
   ],
   "source": [
    "df_1.len_query.describe()"
   ]
  },
  {
   "cell_type": "markdown",
   "metadata": {},
   "source": [
    "About 75% of queries have more than 5 words."
   ]
  },
  {
   "cell_type": "markdown",
   "metadata": {},
   "source": [
    "#### c. Add language labels"
   ]
  },
  {
   "cell_type": "code",
   "execution_count": 29,
   "metadata": {
    "collapsed": true
   },
   "outputs": [],
   "source": [
    "from nltk.corpus import words"
   ]
  },
  {
   "cell_type": "code",
   "execution_count": 30,
   "metadata": {
    "collapsed": true,
    "scrolled": true
   },
   "outputs": [],
   "source": [
    "en_word_set = set(words.words())"
   ]
  },
  {
   "cell_type": "code",
   "execution_count": 48,
   "metadata": {
    "collapsed": true
   },
   "outputs": [],
   "source": [
    "def detect_lang(query):\n",
    "    tokens = query.split(' ')\n",
    "    \n",
    "    en_count = 0\n",
    "    len_query = len(tokens)\n",
    "    for t in tokens:\n",
    "        if t in en_word_set:\n",
    "            en_count += 1\n",
    "    if float(en_count/len_query) >= 0.5:\n",
    "        return 'en'\n",
    "    else:\n",
    "        return 'not_en'"
   ]
  },
  {
   "cell_type": "code",
   "execution_count": 49,
   "metadata": {
    "collapsed": true
   },
   "outputs": [
    {
     "name": "stderr",
     "output_type": "stream",
     "text": [
      "C:\\Users\\kessingh\\AppData\\Local\\Continuum\\Anaconda3\\lib\\site-packages\\ipykernel_launcher.py:1: SettingWithCopyWarning: \n",
      "A value is trying to be set on a copy of a slice from a DataFrame.\n",
      "Try using .loc[row_indexer,col_indexer] = value instead\n",
      "\n",
      "See the caveats in the documentation: http://pandas.pydata.org/pandas-docs/stable/indexing.html#indexing-view-versus-copy\n",
      "  \"\"\"Entry point for launching an IPython kernel.\n"
     ]
    }
   ],
   "source": [
    "df_1['lang'] = df_1.apply(lambda row: detect_lang(row.cleaned_query), axis=1)"
   ]
  },
  {
   "cell_type": "code",
   "execution_count": 50,
   "metadata": {},
   "outputs": [
    {
     "data": {
      "text/html": [
       "<div>\n",
       "<style>\n",
       "    .dataframe thead tr:only-child th {\n",
       "        text-align: right;\n",
       "    }\n",
       "\n",
       "    .dataframe thead th {\n",
       "        text-align: left;\n",
       "    }\n",
       "\n",
       "    .dataframe tbody tr th {\n",
       "        vertical-align: top;\n",
       "    }\n",
       "</style>\n",
       "<table border=\"1\" class=\"dataframe\">\n",
       "  <thead>\n",
       "    <tr style=\"text-align: right;\">\n",
       "      <th></th>\n",
       "      <th>query_id</th>\n",
       "      <th>query</th>\n",
       "      <th>label</th>\n",
       "      <th>len_query</th>\n",
       "      <th>cleaned_query</th>\n",
       "      <th>lang</th>\n",
       "    </tr>\n",
       "  </thead>\n",
       "  <tbody>\n",
       "    <tr>\n",
       "      <th>0</th>\n",
       "      <td>2</td>\n",
       "      <td>Information regarding weather in FATEHABAD?</td>\n",
       "      <td>8</td>\n",
       "      <td>5</td>\n",
       "      <td>information regarding weather in fatehabad</td>\n",
       "      <td>en</td>\n",
       "    </tr>\n",
       "    <tr>\n",
       "      <th>1</th>\n",
       "      <td>3</td>\n",
       "      <td>REGARDING ANIMAL HUSBANDRY?</td>\n",
       "      <td>8</td>\n",
       "      <td>3</td>\n",
       "      <td>regarding animal husbandry</td>\n",
       "      <td>en</td>\n",
       "    </tr>\n",
       "    <tr>\n",
       "      <th>2</th>\n",
       "      <td>4</td>\n",
       "      <td>TELL ME SUBSIDY ON SUGARCANE THRASH CUTTER.</td>\n",
       "      <td>3</td>\n",
       "      <td>7</td>\n",
       "      <td>tell me subsidy on sugarcane thrash cutter</td>\n",
       "      <td>en</td>\n",
       "    </tr>\n",
       "    <tr>\n",
       "      <th>3</th>\n",
       "      <td>5</td>\n",
       "      <td>TELL M E ABOUT WHITEGROUB CONTROIL IN PENUT ?</td>\n",
       "      <td>6</td>\n",
       "      <td>9</td>\n",
       "      <td>tell m e about whitegroub controil in penut</td>\n",
       "      <td>en</td>\n",
       "    </tr>\n",
       "    <tr>\n",
       "      <th>4</th>\n",
       "      <td>6</td>\n",
       "      <td>Information regarding how to control becterial...</td>\n",
       "      <td>6</td>\n",
       "      <td>13</td>\n",
       "      <td>information regarding how to control becterial...</td>\n",
       "      <td>en</td>\n",
       "    </tr>\n",
       "  </tbody>\n",
       "</table>\n",
       "</div>"
      ],
      "text/plain": [
       "   query_id                                              query  label  \\\n",
       "0         2        Information regarding weather in FATEHABAD?      8   \n",
       "1         3                        REGARDING ANIMAL HUSBANDRY?      8   \n",
       "2         4        TELL ME SUBSIDY ON SUGARCANE THRASH CUTTER.      3   \n",
       "3         5      TELL M E ABOUT WHITEGROUB CONTROIL IN PENUT ?      6   \n",
       "4         6  Information regarding how to control becterial...      6   \n",
       "\n",
       "   len_query                                      cleaned_query lang  \n",
       "0          5         information regarding weather in fatehabad   en  \n",
       "1          3                         regarding animal husbandry   en  \n",
       "2          7         tell me subsidy on sugarcane thrash cutter   en  \n",
       "3          9        tell m e about whitegroub controil in penut   en  \n",
       "4         13  information regarding how to control becterial...   en  "
      ]
     },
     "execution_count": 50,
     "metadata": {},
     "output_type": "execute_result"
    }
   ],
   "source": [
    "df_1.head()"
   ]
  },
  {
   "cell_type": "code",
   "execution_count": 51,
   "metadata": {
    "scrolled": true
   },
   "outputs": [
    {
     "data": {
      "text/html": [
       "<div>\n",
       "<style>\n",
       "    .dataframe thead tr:only-child th {\n",
       "        text-align: right;\n",
       "    }\n",
       "\n",
       "    .dataframe thead th {\n",
       "        text-align: left;\n",
       "    }\n",
       "\n",
       "    .dataframe tbody tr th {\n",
       "        vertical-align: top;\n",
       "    }\n",
       "</style>\n",
       "<table border=\"1\" class=\"dataframe\">\n",
       "  <thead>\n",
       "    <tr style=\"text-align: right;\">\n",
       "      <th></th>\n",
       "      <th>query_id</th>\n",
       "      <th>query</th>\n",
       "      <th>label</th>\n",
       "      <th>len_query</th>\n",
       "      <th>cleaned_query</th>\n",
       "      <th>lang</th>\n",
       "    </tr>\n",
       "  </thead>\n",
       "  <tbody>\n",
       "    <tr>\n",
       "      <th>14</th>\n",
       "      <td>16</td>\n",
       "      <td>kya ganna bone ke bad pani lagaa sate hai</td>\n",
       "      <td>0</td>\n",
       "      <td>9</td>\n",
       "      <td>kya ganna bone ke bad pani lagaa sate hai</td>\n",
       "      <td>not_en</td>\n",
       "    </tr>\n",
       "    <tr>\n",
       "      <th>23</th>\n",
       "      <td>25</td>\n",
       "      <td>mausam ki jankari  ?</td>\n",
       "      <td>0</td>\n",
       "      <td>5</td>\n",
       "      <td>mausam ki jankari</td>\n",
       "      <td>not_en</td>\n",
       "    </tr>\n",
       "    <tr>\n",
       "      <th>31</th>\n",
       "      <td>33</td>\n",
       "      <td>DHAN ME DEEMAK LAGA HAI ?</td>\n",
       "      <td>2</td>\n",
       "      <td>6</td>\n",
       "      <td>dhan me deemak laga hai</td>\n",
       "      <td>not_en</td>\n",
       "    </tr>\n",
       "    <tr>\n",
       "      <th>32</th>\n",
       "      <td>34</td>\n",
       "      <td>alovera market infarmetion ?</td>\n",
       "      <td>6</td>\n",
       "      <td>4</td>\n",
       "      <td>alovera market infarmetion</td>\n",
       "      <td>not_en</td>\n",
       "    </tr>\n",
       "    <tr>\n",
       "      <th>37</th>\n",
       "      <td>39</td>\n",
       "      <td>80 Din ke makka me kiya khad dai</td>\n",
       "      <td>6</td>\n",
       "      <td>8</td>\n",
       "      <td>80 din ke makka me kiya khad dai</td>\n",
       "      <td>not_en</td>\n",
       "    </tr>\n",
       "  </tbody>\n",
       "</table>\n",
       "</div>"
      ],
      "text/plain": [
       "    query_id                                      query  label  len_query  \\\n",
       "14        16  kya ganna bone ke bad pani lagaa sate hai      0          9   \n",
       "23        25                       mausam ki jankari  ?      0          5   \n",
       "31        33                  DHAN ME DEEMAK LAGA HAI ?      2          6   \n",
       "32        34               alovera market infarmetion ?      6          4   \n",
       "37        39           80 Din ke makka me kiya khad dai      6          8   \n",
       "\n",
       "                                cleaned_query    lang  \n",
       "14  kya ganna bone ke bad pani lagaa sate hai  not_en  \n",
       "23                          mausam ki jankari  not_en  \n",
       "31                    dhan me deemak laga hai  not_en  \n",
       "32                 alovera market infarmetion  not_en  \n",
       "37           80 din ke makka me kiya khad dai  not_en  "
      ]
     },
     "execution_count": 51,
     "metadata": {},
     "output_type": "execute_result"
    }
   ],
   "source": [
    "df_1[df_1.lang=='not_en'].head()"
   ]
  },
  {
   "cell_type": "code",
   "execution_count": null,
   "metadata": {
    "collapsed": true
   },
   "outputs": [],
   "source": []
  },
  {
   "cell_type": "markdown",
   "metadata": {},
   "source": [
    "### 4. Word cloud"
   ]
  },
  {
   "cell_type": "code",
   "execution_count": 62,
   "metadata": {
    "collapsed": true
   },
   "outputs": [
    {
     "ename": "KeyboardInterrupt",
     "evalue": "",
     "output_type": "error",
     "traceback": [
      "\u001b[1;31m---------------------------------------------------------------------------\u001b[0m",
      "\u001b[1;31mKeyboardInterrupt\u001b[0m                         Traceback (most recent call last)",
      "\u001b[1;32m<ipython-input-62-a4794a433b43>\u001b[0m in \u001b[0;36m<module>\u001b[1;34m()\u001b[0m\n\u001b[0;32m     23\u001b[0m \u001b[1;33m\u001b[0m\u001b[0m\n\u001b[0;32m     24\u001b[0m     \u001b[1;32mfor\u001b[0m \u001b[0mwords\u001b[0m \u001b[1;32min\u001b[0m \u001b[0mtokens\u001b[0m\u001b[1;33m:\u001b[0m\u001b[1;33m\u001b[0m\u001b[0m\n\u001b[1;32m---> 25\u001b[1;33m         \u001b[0mcomment_words\u001b[0m \u001b[1;33m=\u001b[0m \u001b[0mcomment_words\u001b[0m \u001b[1;33m+\u001b[0m \u001b[0mwords\u001b[0m \u001b[1;33m+\u001b[0m \u001b[1;34m' '\u001b[0m\u001b[1;33m\u001b[0m\u001b[0m\n\u001b[0m\u001b[0;32m     26\u001b[0m \u001b[1;33m\u001b[0m\u001b[0m\n\u001b[0;32m     27\u001b[0m \u001b[1;33m\u001b[0m\u001b[0m\n",
      "\u001b[1;31mKeyboardInterrupt\u001b[0m: "
     ]
    }
   ],
   "source": [
    "from wordcloud import WordCloud, STOPWORDS \n",
    "import matplotlib.pyplot as plt \n",
    "import pandas as pd \n",
    "  \n",
    "# Reads 'Youtube04-Eminem.csv' file  \n",
    "df = pd.read_csv('data/raw/query_train.csv', sep='|')\n",
    "\n",
    "comment_words = ' '\n",
    "stopwords = set(STOPWORDS) \n",
    "  \n",
    "# iterate through the csv file \n",
    "for val in list(df.iloc[:,1]): \n",
    "      \n",
    "    # typecaste each val to string \n",
    "    val = str(val) \n",
    "  \n",
    "    # split the value \n",
    "    tokens = val.split(' ') \n",
    "      \n",
    "    # Converts each token into lowercase \n",
    "    for i in range(len(tokens)): \n",
    "        tokens[i] = tokens[i].lower() \n",
    "          \n",
    "    for words in tokens: \n",
    "        comment_words = comment_words + words + ' '\n",
    "  \n",
    "  \n",
    "wordcloud = WordCloud(width = 800, height = 800, \n",
    "                background_color ='white', \n",
    "                stopwords = stopwords, \n",
    "                min_font_size = 10).generate(comment_words) \n",
    "  \n",
    "# plot the WordCloud image                        \n",
    "plt.figure(figsize = (8, 8), facecolor = None) \n",
    "plt.imshow(wordcloud) \n",
    "plt.axis(\"off\") \n",
    "plt.tight_layout(pad = 0) \n",
    "  \n",
    "plt.show() "
   ]
  },
  {
   "cell_type": "code",
   "execution_count": 50,
   "metadata": {
    "collapsed": true
   },
   "outputs": [],
   "source": [
    "df = pd.read_csv('data/raw/query_train.csv', sep='|')"
   ]
  },
  {
   "cell_type": "code",
   "execution_count": 66,
   "metadata": {},
   "outputs": [
    {
     "name": "stdout",
     "output_type": "stream",
     "text": [
      "<!DOCTYPE html>\n",
      "<html><head><meta content=\"text/html; charset=utf-8\" http-equiv=\"content-type\"/><meta content=\"translate, translations, translation, translator, machine translation, online translation\" name=\"keywords\"/><meta content=\"Google's free service instantly translates words, phrases, and web pages between English and over 100 other languages.\" name=\"description\"/><meta content=\"noodp\" name=\"robots\"/><meta content=\"notranslate\" name=\"google\"/><link href=\"https://translate.google.com/\" rel=\"canonical\"/><title>Google Translate</title><link href=\"/opensearch.xml?hl=en\" rel=\"search\" title=\"Google Translate\" type=\"application/opensearchdescription+xml\"/><script>JS_ERR_COUNT = 0;JS_ERR_ARR = [];JS_LOADED = false;function _gtErr(e,url,line){if (++JS_ERR_COUNT > 10) {return;}var i=new Image();var err='e='+e.substr(0,1500)+',url='+url.substr(0,400)+',line='+line+',count='+JS_ERR_COUNT;JS_ERR_ARR.push(err);i.src='/gen204?jserr='+encodeURIComponent(err);i.onload=function(){i.onload=null;};}window.onerror=_gtErr;</script><script>(function(){(function(){function e(a){this.t={};this.tick=function(a,c,b){this.t[a]=[void 0!=b?b:(new Date).getTime(),c];if(void 0==b)try{window.console.timeStamp(\"CSI/\"+a)}catch(h){}};this.tick(\"start\",null,a)}var a;if(window.performance)var d=(a=window.performance.timing)&&a.responseStart;var f=0<d?new e(d):new e;window.jstiming={Timer:e,load:f};if(a){var c=a.navigationStart;0<c&&d>=c&&(window.jstiming.srt=d-c)}if(a){var b=window.jstiming.load;0<c&&d>=c&&(b.tick(\"_wtsrt\",void 0,c),b.tick(\"wtsrt_\",\"_wtsrt\",\n",
      "d),b.tick(\"tbsd_\",\"wtsrt_\"))}try{a=null,window.chrome&&window.chrome.csi&&(a=Math.floor(window.chrome.csi().pageT),b&&0<c&&(b.tick(\"_tbnd\",void 0,window.chrome.csi().startE),b.tick(\"tbnd_\",\"_tbnd\",c))),null==a&&window.gtbExternal&&(a=window.gtbExternal.pageT()),null==a&&window.external&&(a=window.external.pageT,b&&0<c&&(b.tick(\"_tbnd\",void 0,window.external.startE),b.tick(\"tbnd_\",\"_tbnd\",c))),a&&(window.jstiming.pt=a)}catch(g){}})();}).call(window);\n",
      "</script><link href=\"/translate/releases/twsfe_w_20180917_RC02/r/css/desktop_ltr.css\" rel=\"stylesheet\"/><style>#middle_body{margin-left:10em;border-left:1px solid #c9d7f1;padding-left:1.4em;zoom:1;}</style><style>#gbar,#guser{font-size:13px;padding-right:1px;padding-top:1px !important;}#gbar{padding-left:1px;height:22px}#guser{padding-bottom:7px !important;text-align:right}.gbh,.gbd{border-top:1px solid #c9d7f1;font-size:1px}.gbh{height:0;position:absolute;top:24px;width:100%}@media all{.gb1{height:22px;margin-right:.5em;vertical-align:top}#gbar{float:left}}a.gb1,a.gb4{text-decoration:underline !important}a.gb1,a.gb4{color:#00c !important}.gbi .gb4{color:#dd8e27 !important}.gbf .gb4{color:#900 !important}\n",
      "</style><style>@import url(//fonts.googleapis.com/css?family=Roboto:300,400,500,700&lang=en);</style><script>window.jstiming.load.tick('cl')</script><script></script><script>(function(i,s,o,g,r,a,m){i['GoogleAnalyticsObject']=r;i[r]=i[r]||function(){(i[r].q=i[r].q||[]).push(arguments)},i[r].l=1*new Date();a=s.createElement(o),m=s.getElementsByTagName(o)[0];a.async=1;a.src=g;m.parentNode.insertBefore(a,m)})(window,document,'script','//www.google-analytics.com/analytics.js','__gaTracker');__gaTracker('create', 'UA-1043770-5', {'sampleRate': 1.00});__gaTracker('send', 'pageview');</script></head><body class=\"e_md nj pre-epu\" dir=\"ltr\" onload=\"window.jstiming.load['tick']('ol');\"><div id=\"gbar\"><nobr><a class=\"gb1\" href=\"https://www.google.com/webhp?tab=Tw\">Search</a> <a class=\"gb1\" href=\"http://www.google.com/imghp?hl=en&amp;tab=Ti\">Images</a> <a class=\"gb1\" href=\"https://maps.google.com/maps?hl=en&amp;tab=Tl\">Maps</a> <a class=\"gb1\" href=\"https://play.google.com/?hl=en&amp;tab=T8\">Play</a> <a class=\"gb1\" href=\"https://www.youtube.com/?gl=US&amp;tab=T1\">YouTube</a> <a class=\"gb1\" href=\"https://news.google.com/nwshp?hl=en&amp;tab=Tn\">News</a> <a class=\"gb1\" href=\"https://mail.google.com/mail/?tab=Tm\">Gmail</a> <a class=\"gb1\" href=\"https://drive.google.com/?tab=To\">Drive</a> <a class=\"gb1\" href=\"https://www.google.com/intl/en/options/\" style=\"text-decoration:none\"><u>More</u> »</a></nobr></div><div id=\"guser\" width=\"100%\"><nobr><span class=\"gbi\" id=\"gbn\"></span><span class=\"gbf\" id=\"gbf\"></span><span id=\"gbe\"><a class=\"gb4\" href=\"http://www.google.com/support/translate/\">Help</a> | </span><a class=\"gb4\" href=\"https://accounts.google.com/ServiceLogin?hl=en&amp;passive=true&amp;continue=https://translate.google.com/\" id=\"gb_70\" target=\"_top\">Sign in</a></nobr></div><div class=\"gbh\" style=\"left:0\"></div><div class=\"gbh\" style=\"right:0\"></div><script>document.body.className=document.body.className.replace('nj','');</script><div id=\"gt-logo\"><div id=\"gt-logo-icon\"><a href=\"/?hl=en\"><span alt=\"Google Translate\" border=\"0\" height=\"36\" style=\"background:url(https://www.gstatic.com/images/branding/googlelogo/1x/googlelogo_color_92x36dp.png)0 0 no-repeat; width:110px;height:40px;display:inline-block\"></span></a></div></div><div class=\"g-section\" id=\"gt-c\"><div id=\"gt-bbar-c\"><div class=\"goog-inline-block\" id=\"gt-bbar\"></div></div><script>MSG_AD_QUERY='';MSG_ALT_PHRASE_TITLE='Click to edit and see alternate translations';MSG_BUTTER_BAR_BUTTON = '';MSG_BUTTER_BAR_DESC = '';MSG_CANCEL_EDITS='Close';MSG_CLEAR_TEXT='Clear text';MSG_CLOSE='Close';MSG_COMMUNITY_PROMO_NEW_USER_LINK ='Join the Translate Community';MSG_COMMUNITY_PROMO_NEW_USER_SUBTEXT ='';MSG_COMMUNITY_PROMO_NEW_USER_TITLE ='';MSG_COMMUNITY_PROMO_NEW_USER_URL ='/community?source\\x3dt-new-user';MSG_COMMUNITY_PROMO_RETURN_USER_LINK ='';MSG_COMMUNITY_PROMO_RETURN_USER_SUBTEXT ='';MSG_COMMUNITY_PROMO_RETURN_USER_TITLE ='';MSG_COMMUNITY_PROMO_RETURN_USER_URL ='';MSG_COMMUNITY_PROMO_EDIT_LINK = 'Continue improving translation quality';MSG_COMMUNITY_PROMO_EDIT_SUBTEXT ='Thank you!';MSG_COMMUNITY_PROMO_EDIT_TITLE = '';MSG_COMMUNITY_PROMO_EDIT_URL = '/community?source\\x3dt-user-edit';MSG_COMMUNITY_PROMO_SERVED_DESCRIPTION ='Our Translate Community checked this translation. You too can help us improve quality.';MSG_COMMUNITY_PROMO_SERVED_DISMISS ='Dismiss';MSG_COMMUNITY_PROMO_SERVED_LINK ='Get started';MSG_COMMUNITY_PROMO_SERVED_URL ='/community?source\\x3dt-served-community';MSG_COPIED = 'Copied';MSG_COPY = 'Copy';MSG_DISMISS='Dismiss';MSG_EDIT_TRANSLATION='Improve this translation';MSG_EDIT_POPUP='Improve this translation';MSG_FEWER_EXAMPLES_LABEL='Fewer examples';MSG_FEWER_TRANSLATIONS_LABEL='Fewer translations';MSG_FILL_SUGGESTION='Contribute a better translation:';MSG_LANGUAGE_CORRECTION='Translate from:';MSG_LISTEN='Listen';MSG_N_MORE_EXAMPLES_LABEL='%1$s more examples';MSG_N_MORE_TRANSLATIONS_LABEL='%1$s more translations';MSG_ORIGINAL_TEXT='Original text:';MSG_REQUEST_TOO_BIG='Request too big';MSG_SELECT_ALL = 'Select all';MSG_SHARE = 'Share';MSG_SHARE_MODULE_TITLE = 'Share this translation';MSG_SHARE_MODULE_EMAIL = 'Email';MSG_SPELLING_CORRECTION='Did you mean:';MSG_RELATED_SUGGESTION='See also:';MSG_SUBMIT_SUGGESTION='Submit';MSG_SUBMIT_TRANSLATION='Contribute';MSG_SUGGEST_A_TRANSLATION='Your contribution will be used to improve translation quality and may be shown to users anonymously';MSG_SUGGEST_AN_EDIT='Suggest an edit';MSG_TRANSLATE='Translate';MSG_TRANSLATION_ERROR='Translation error';MSG_TRANSLATIONS_OF='Translations of %1$s';MSG_TTS_EN_AU='Australian';MSG_TTS_EN_US='American';MSG_TTS_EN_GB='British';MSG_TTS_ES_ES='Iberian';MSG_TTS_ES_419='Latin American';MSG_TTS_PT_BR='Brazilian';MSG_TTS_PT_PT='European';MSG_TTS_CMN='Mandarin';MSG_TTS_YUE='Cantonese';MSG_UNDO_EDITS='View original translation';MSG_USE_ALTERNATIVE='Use';MSG_FOLLOW_SANTA='Follow Santa';msg_disable_otf='Turn off instant translation';msg_enable_otf='Turn on instant translation';tr_in='Translating...';EGGS_RU_CHEKHOV=0;MSG_EXAMPLES='Examples';MSG_EXAMPLES_OF='Examples of %1$s';MSG_MT_FROM_GOOGLE='automatically translated by Google';MSG_CHANGE_ITA='Select Input Tool';MSG_IME_OFF='Turn off Input Method';MSG_IME_ON='Turn on Input Method';MSG_VK_OFF='Turn off Virtual Keyboard';MSG_VK_ON='Turn on Virtual Keyboard';MSG_HW_OFF='Turn off Handwriting';MSG_HW_ON='Turn on Handwriting';MSG_ALL='All languages';MSG_BACK_TO_ALL='Show all phrases';MSG_DELETE='Delete';MSG_DESTINATION='Destination Text';MSG_EDIT='Edit';MSG_HIDE_PB='Hide Phrasebook';MSG_MY_PB='Phrasebook';MSG_NEW='New!';MSG_NEWEST='Recently added';MSG_NP='Your Phrasebook is empty. Click the star under a translation to save it here.';MSG_NPM='You don\\x27t have any phrases for this language pair.';MSG_OLDEST='Oldest';MSG_PB_ERROR='Oops, something went wrong. Please try again later.';MSG_PB_EXP='Export to Google Sheets';MSG_PB_FULL='Phrasebook is full';MSG_PB_SR='Search result: %1$s matches.';MSG_PB_TL='The phrase is too long and cannot be saved.';MSG_PB_SIGNIN='Sign in to view your Phrasebook.';MSG_SAVE='Save';MSG_SAVED='Saved';MSG_SAVE_PB='Sign in to save to Phrasebook';MSG_SAVING='Saving...';MSG_SHOW_PB='Show Phrasebook';MSG_SORT_BY='Sort';MSG_SOURCE='Original text';MSG_TRANSLATE_FROM_LABEL='From:';MSG_TRANSLATE_TO_LABEL='To:';MSG_VIEW_PB='View my Phrasebook';LOGIN_URL='https://accounts.google.com';MAX_SINGLE_QUERY_LENGTH = 5000;MSG_OVERFLOW_COPY_TOOLTIP = 'Copy';MSG_OVERFLOW_COPY_TOOLTIP_COPIED = 'Copied';MSG_OVERFLOW_HEADER = '{overflow_character_count, select, 1 {1 character over {maximum_input_count} maximum:}other {{overflow_character_count} characters over {maximum_input_count} maximum:}}';BUTTER_BAR_URL = '';BUTTER_BAR_LOGTYPE = '';COMMUNITY_PROMO_TYPE = 'new';COMMUNITY_PROMO_SERVED_DISMISSED = false;ENABLE_COMMUNITY_PROMO = true;ENABLE_COMMUNITY_USER_EDIT_PROMO = true;ENABLE_COMMUNITY_SERVED_PROMO = true;ENCODING = 'ISO-8859-1';CC_LOG=1;CC_LOG_PROD=1;DROP_LINK=1;INPUT_SUGGESTION=1;INPUT_SUGGESTION_SERVER_URL='https://clients1.google.com/complete/search';INPUT_SUGGESTION_CLIENT_NAME='translate-web';INPUT_SUGGESTION_DATASET='translate';MSG_FLAG_SUGGESTION='Flag as inappropriate';MSG_SUGGESTION_FLAGGED='Suggestion \\x27%1$s\\x27 flagged as inappropriate.';INPUT_SUGGESTION_DESKTOP=1;TRANSLATED_INPUT_SUGGESTION_DESKTOP=1;MSG_DEFINITIONS_OF='Definitions of %1$s';MSG_FEWER_DEFINITIONS_LABEL='Fewer definitions';MSG_FEWER_SYNONYMS_LABEL='Fewer synonyms';MSG_FEWER_RELATED_LABEL='Fewer related';MSG_N_MORE_DEFINITIONS_LABEL='%1$s more definitions';MSG_N_MORE_RELATED_LABEL='%1$s more related';MSG_N_MORE_SYNONYMS_LABEL='%1$s more synonyms';MSG_SEE_ALSO='See also';MSG_SYNONYMS='Synonyms';MSG_SYNONYMS_LOWERCASE='synonyms';MSG_SYNONYMS_OF='Synonyms of %1$s';MSG_SPELLING_AUTO_CORRECTION='Showing translation for';MSG_SPELLING_REVERT_CORRECTION='Translate instead';TTS_PACE_CONTROL=1;SK_WP=1;WEBFONT=1;DEFAULT_SOURCES=['en','es','fr'];DEFAULT_TARGETS=['en','es','ar'];DEFAULT_TTS_DIALECT_EN = 'en-IN';DEFAULT_TTS_DIALECT_ES = 'es-ES';DEFAULT_TTS_DIALECT_PT = 'pt-BR';DEFAULT_TTS_DIALECT_ZH = 'cmn-CN';IN_CHINA=false;LOW_CONFIDENCE_THRESHOLD=-1;MAX_ALTERNATIVES_ROUNDTRIP_RESULTS=1;TKK='427115.1905145711';VERSION_LABEL = 'twsfe_w_20180917_RC02';WEB_TRANSLATION_PATH='/translate';SIGNED_IN=false;USAGE='';</script><div id=\"gt-form-c\"><form action=\"/\" enctype=\"application/x-www-form-urlencoded\" id=\"gt-form\" method=\"post\" name=\"text_form\"><div id=\"gt-appbar\"><div id=\"gt-apb-c\"><div id=\"gt-apb-main\"><a href=\"/\" id=\"gt-appname\">Translate</a><span id=\"ft-l\"><a class=\"gt-otf-switch-with-pb\" href=\"/?hl=en&amp;eotf=0\" id=\"gt-otf-switch\">Turn off instant translation</a></span></div></div></div><div id=\"gt-text-all\"><div id=\"gt-main\"><div id=\"gt-text-c\"><div id=\"gt-langs\"><div class=\"goog-inline-block\" id=\"gt-lang-left\"><div id=\"gt-lang-src\"><div class=\"gt-lang-sugg-message goog-inline-block je\" id=\"gt-sl-sugg\"><div class=\"goog-inline-block jfk-button jfk-button-standard jfk-button-collapse-right\">English</div><div class=\"goog-inline-block jfk-button jfk-button-standard jfk-button-collapse-left jfk-button-collapse-right\">Spanish</div><div class=\"goog-inline-block jfk-button jfk-button-standard jfk-button-collapse-left jfk-button-collapse-right\">French</div><div class=\"goog-inline-block jfk-button jfk-button-standard jfk-button-checked jfk-button-collapse-left jfk-button-collapse-right\">Detect language</div></div><label class=\"gt-lang-lbl nje\" for=\"gt-sl\"></label><select class=\"jfk-button jfk-button-standard nje\" id=\"gt-sl\" name=\"sl\" tabindex=\"0\"><option selected=\"\" value=\"auto\">Detect language</option><option disabled=\"\" value=\"separator\">—</option><option value=\"af\">Afrikaans</option><option value=\"sq\">Albanian</option><option value=\"am\">Amharic</option><option value=\"ar\">Arabic</option><option value=\"hy\">Armenian</option><option value=\"az\">Azerbaijani</option><option value=\"eu\">Basque</option><option value=\"be\">Belarusian</option><option value=\"bn\">Bengali</option><option value=\"bs\">Bosnian</option><option value=\"bg\">Bulgarian</option><option value=\"ca\">Catalan</option><option value=\"ceb\">Cebuano</option><option value=\"ny\">Chichewa</option><option value=\"zh-CN\">Chinese</option><option value=\"co\">Corsican</option><option value=\"hr\">Croatian</option><option value=\"cs\">Czech</option><option value=\"da\">Danish</option><option value=\"nl\">Dutch</option><option value=\"en\">English</option><option value=\"eo\">Esperanto</option><option value=\"et\">Estonian</option><option value=\"tl\">Filipino</option><option value=\"fi\">Finnish</option><option value=\"fr\">French</option><option value=\"fy\">Frisian</option><option value=\"gl\">Galician</option><option value=\"ka\">Georgian</option><option value=\"de\">German</option><option value=\"el\">Greek</option><option value=\"gu\">Gujarati</option><option value=\"ht\">Haitian Creole</option><option value=\"ha\">Hausa</option><option value=\"haw\">Hawaiian</option><option value=\"iw\">Hebrew</option><option value=\"hi\">Hindi</option><option value=\"hmn\">Hmong</option><option value=\"hu\">Hungarian</option><option value=\"is\">Icelandic</option><option value=\"ig\">Igbo</option><option value=\"id\">Indonesian</option><option value=\"ga\">Irish</option><option value=\"it\">Italian</option><option value=\"ja\">Japanese</option><option value=\"jw\">Javanese</option><option value=\"kn\">Kannada</option><option value=\"kk\">Kazakh</option><option value=\"km\">Khmer</option><option value=\"ko\">Korean</option><option value=\"ku\">Kurdish (Kurmanji)</option><option value=\"ky\">Kyrgyz</option><option value=\"lo\">Lao</option><option value=\"la\">Latin</option><option value=\"lv\">Latvian</option><option value=\"lt\">Lithuanian</option><option value=\"lb\">Luxembourgish</option><option value=\"mk\">Macedonian</option><option value=\"mg\">Malagasy</option><option value=\"ms\">Malay</option><option value=\"ml\">Malayalam</option><option value=\"mt\">Maltese</option><option value=\"mi\">Maori</option><option value=\"mr\">Marathi</option><option value=\"mn\">Mongolian</option><option value=\"my\">Myanmar (Burmese)</option><option value=\"ne\">Nepali</option><option value=\"no\">Norwegian</option><option value=\"ps\">Pashto</option><option value=\"fa\">Persian</option><option value=\"pl\">Polish</option><option value=\"pt\">Portuguese</option><option value=\"pa\">Punjabi</option><option value=\"ro\">Romanian</option><option value=\"ru\">Russian</option><option value=\"sm\">Samoan</option><option value=\"gd\">Scots Gaelic</option><option value=\"sr\">Serbian</option><option value=\"st\">Sesotho</option><option value=\"sn\">Shona</option><option value=\"sd\">Sindhi</option><option value=\"si\">Sinhala</option><option value=\"sk\">Slovak</option><option value=\"sl\">Slovenian</option><option value=\"so\">Somali</option><option selected=\"\" value=\"es\">Spanish</option><option value=\"su\">Sundanese</option><option value=\"sw\">Swahili</option><option value=\"sv\">Swedish</option><option value=\"tg\">Tajik</option><option value=\"ta\">Tamil</option><option value=\"te\">Telugu</option><option value=\"th\">Thai</option><option value=\"tr\">Turkish</option><option value=\"uk\">Ukrainian</option><option value=\"ur\">Urdu</option><option value=\"uz\">Uzbek</option><option value=\"vi\">Vietnamese</option><option value=\"cy\">Welsh</option><option value=\"xh\">Xhosa</option><option value=\"yi\">Yiddish</option><option value=\"yo\">Yoruba</option><option value=\"zu\">Zulu</option></select><div class=\"goog-inline-block goog-flat-menu-button goog-flat-menu-button-collapse-left gt-gms-icon je\" id=\"gt-sl-gms\"><div class=\"goog-inline-block goog-flat-menu-button-caption\"> </div><div class=\"goog-inline-block goog-flat-menu-button-dropdown\"></div></div></div><div class=\"jfk-button-standard jfk-button-narrow jfk-button jfk-button-disabled trans-swap-button je\" id=\"gt-swap\" title=\"Swap languages\"><span class=\"jfk-button-img\"></span></div></div><div class=\"goog-inline-block\" id=\"gt-lang-right\"><div id=\"gt-lang-tgt\"><div class=\"gt-lang-sugg-message goog-inline-block je\" id=\"gt-tl-sugg\"><div class=\"goog-inline-block jfk-button jfk-button-standard jfk-button-checked jfk-button-collapse-right\">English</div><div class=\"goog-inline-block jfk-button jfk-button-standard jfk-button-collapse-left jfk-button-collapse-right\">Spanish</div><div class=\"goog-inline-block jfk-button jfk-button-standard jfk-button-collapse-left jfk-button-collapse-right\">French</div></div><label class=\"gt-lang-lbl nje\" for=\"gt-tl\"></label><select class=\"jfk-button jfk-button-standard nje\" id=\"gt-tl\" name=\"tl\" tabindex=\"0\"><option value=\"af\">Afrikaans</option><option value=\"sq\">Albanian</option><option value=\"am\">Amharic</option><option value=\"ar\">Arabic</option><option value=\"hy\">Armenian</option><option value=\"az\">Azerbaijani</option><option value=\"eu\">Basque</option><option value=\"be\">Belarusian</option><option value=\"bn\">Bengali</option><option value=\"bs\">Bosnian</option><option value=\"bg\">Bulgarian</option><option value=\"ca\">Catalan</option><option value=\"ceb\">Cebuano</option><option value=\"ny\">Chichewa</option><option value=\"zh-CN\">Chinese (Simplified)</option><option value=\"zh-TW\">Chinese (Traditional)</option><option value=\"co\">Corsican</option><option value=\"hr\">Croatian</option><option value=\"cs\">Czech</option><option value=\"da\">Danish</option><option value=\"nl\">Dutch</option><option selected=\"\" value=\"en\">English</option><option value=\"eo\">Esperanto</option><option value=\"et\">Estonian</option><option value=\"tl\">Filipino</option><option value=\"fi\">Finnish</option><option value=\"fr\">French</option><option value=\"fy\">Frisian</option><option value=\"gl\">Galician</option><option value=\"ka\">Georgian</option><option value=\"de\">German</option><option value=\"el\">Greek</option><option value=\"gu\">Gujarati</option><option value=\"ht\">Haitian Creole</option><option value=\"ha\">Hausa</option><option value=\"haw\">Hawaiian</option><option value=\"iw\">Hebrew</option><option value=\"hi\">Hindi</option><option value=\"hmn\">Hmong</option><option value=\"hu\">Hungarian</option><option value=\"is\">Icelandic</option><option value=\"ig\">Igbo</option><option value=\"id\">Indonesian</option><option value=\"ga\">Irish</option><option value=\"it\">Italian</option><option value=\"ja\">Japanese</option><option value=\"jw\">Javanese</option><option value=\"kn\">Kannada</option><option value=\"kk\">Kazakh</option><option value=\"km\">Khmer</option><option value=\"ko\">Korean</option><option value=\"ku\">Kurdish (Kurmanji)</option><option value=\"ky\">Kyrgyz</option><option value=\"lo\">Lao</option><option value=\"la\">Latin</option><option value=\"lv\">Latvian</option><option value=\"lt\">Lithuanian</option><option value=\"lb\">Luxembourgish</option><option value=\"mk\">Macedonian</option><option value=\"mg\">Malagasy</option><option value=\"ms\">Malay</option><option value=\"ml\">Malayalam</option><option value=\"mt\">Maltese</option><option value=\"mi\">Maori</option><option value=\"mr\">Marathi</option><option value=\"mn\">Mongolian</option><option value=\"my\">Myanmar (Burmese)</option><option value=\"ne\">Nepali</option><option value=\"no\">Norwegian</option><option value=\"ps\">Pashto</option><option value=\"fa\">Persian</option><option value=\"pl\">Polish</option><option value=\"pt\">Portuguese</option><option value=\"pa\">Punjabi</option><option value=\"ro\">Romanian</option><option value=\"ru\">Russian</option><option value=\"sm\">Samoan</option><option value=\"gd\">Scots Gaelic</option><option value=\"sr\">Serbian</option><option value=\"st\">Sesotho</option><option value=\"sn\">Shona</option><option value=\"sd\">Sindhi</option><option value=\"si\">Sinhala</option><option value=\"sk\">Slovak</option><option value=\"sl\">Slovenian</option><option value=\"so\">Somali</option><option value=\"es\">Spanish</option><option value=\"su\">Sundanese</option><option value=\"sw\">Swahili</option><option value=\"sv\">Swedish</option><option value=\"tg\">Tajik</option><option value=\"ta\">Tamil</option><option value=\"te\">Telugu</option><option value=\"th\">Thai</option><option value=\"tr\">Turkish</option><option value=\"uk\">Ukrainian</option><option value=\"ur\">Urdu</option><option value=\"uz\">Uzbek</option><option value=\"vi\">Vietnamese</option><option value=\"cy\">Welsh</option><option value=\"xh\">Xhosa</option><option value=\"yi\">Yiddish</option><option value=\"yo\">Yoruba</option><option value=\"zu\">Zulu</option></select><div class=\"goog-inline-block goog-flat-menu-button goog-flat-menu-button-collapse-left gt-gms-icon je\" id=\"gt-tl-gms\"><div class=\"goog-inline-block goog-flat-menu-button-caption\"> </div><div class=\"goog-inline-block goog-flat-menu-button-dropdown\"></div></div></div><div id=\"gt-lang-submit\"><input class=\"jfk-button jfk-button-action\" id=\"gt-submit\" tabindex=\"0\" type=\"submit\" value=\"Translate\"/></div></div></div><div id=\"gt-text-top\"><div class=\"g-unit\" id=\"gt-src-c\"><div id=\"gt-src-p\"><input id=\"js\" name=\"js\" type=\"hidden\" value=\"n\"/><input id=\"prev\" name=\"prev\" type=\"hidden\" value=\"_t\"/><input id=\"hl\" name=\"hl\" type=\"hidden\" value=\"en\"/><input name=\"ie\" type=\"hidden\" value=\"ISO-8859-1\"/><div id=\"gt-src-wrap\"><label for=\"source\" style=\"display:none\">Translate text or webpage</label><div class=\"gt-is gt-is-desktop\" id=\"gt-src-is\" style=\"display:none\"><div class=\"gt-is-ctr\" id=\"gt-src-is-list\"></div></div><div style=\"width: 100%;\"><textarea autocapitalize=\"off\" autocomplete=\"off\" autocorrect=\"off\" dir=\"ltr\" id=\"source\" name=\"text\" spellcheck=\"false\" tabindex=\"0\" wrap=\"SOFT\"></textarea><textarea autocapitalize=\"off\" autocomplete=\"off\" autocorrect=\"off\" dir=\"ltr\" disabled=\"\" id=\"source-is\" name=\"text-is\" spellcheck=\"false\" wrap=\"SOFT\"></textarea></div><script>(function(){var src = document.getElementById('source');src.focus();src.select();src.style.boxSizing=src.style.WebkitBoxSizing=src.style.MozBoxSizing=src.style.MsBoxSizing='border-box';})();</script><div id=\"gt-src-tools\"><div id=\"gt-src-tools-l\"></div><div id=\"gt-src-tools-r\"></div></div><div id=\"gt-src-cc\"><div aria-live=\"alert\" class=\"cc-msg\" id=\"gt-src-cc-max\" role=\"alert\" style=\"display: none;\">Maximum characters exceeded</div><div class=\"cc-ctr\" id=\"gt-src-cc-ctr\"></div></div></div> <div id=\"select_document\">Type text or a website address or <a href=\"/?tr=f&amp;hl=en\">translate a document.</a></div><div class=\"file\" id=\"file_div\" style=\"display:none\"><div id=\"select_text\"><a href=\"/?tr=t&amp;hl=en\">Cancel</a></div><input id=\"file\" name=\"file\" size=\"40\" type=\"file\"/></div><div class=\"translit\" dir=\"ltr\" id=\"src-translit\" style=\"text-align:\"></div><div id=\"spelling-correction\" style=\"display:none\"></div></div> <div id=\"gt-ovfl\" style=\"display: none;\"><div id=\"gt-ovfl-hdr\"><span class=\"ovfl-msg\" id=\"gt-ovfl-msg\"></span><div class=\"ovfl-xlt\" id=\"gt-ovfl-xlt\" role=\"button\"><div class=\"ovfl-xlt-arrow\" id=\"gt-ovfl-xlt-arrow\"></div><span class=\"ovfl-xlt-more\" id=\"gt-ovfl-xlt-more\">TRANSLATE MORE</span></div></div><div class=\"ovfl-text\" id=\"gt-ovfl-text\"></div> </div> </div> <div class=\"g-unit\" id=\"gt-res-c\"><div id=\"gt-res-p\"><div id=\"gt-res-data\"><div id=\"gt-res-wrap\"><div id=\"gt-res-content\"><div dir=\"ltr\" id=\"gt-res-dir-ctr\"><div id=\"tts_button\"><object data=\"//ssl.gstatic.com/translate/sound_player2.swf\" height=\"18\" id=\"tts\" type=\"application/x-shockwave-flash\" width=\"18\"><param name=\"movie\" value=\"//ssl.gstatic.com/translate/sound_player2.swf\"/><param name=\"flashvars\" value=\"sound_name_cb=_TTSSoundFile\"/><param name=\"wmode\" value=\"transparent\"/><param name=\"allowScriptAccess\" value=\"always\"/></object></div><span id=\"gt-res-error\" style=\"display:none\"></span><span class=\"short_text\" id=\"result_box\"></span></div></div><div id=\"gt-edit\" style=\"display:none\"><div style=\"width: 100%;\"><textarea autocapitalize=\"off\" autocomplete=\"off\" autocorrect=\"off\" id=\"contribute-target\" name=\"edit-text\" spellcheck=\"false\" tabindex=\"0\" wrap=\"SOFT\"></textarea></div></div><div id=\"gt-res-tools\"><div id=\"gt-res-tools-l\"><div id=\"gt-pb-star\"></div></div><div id=\"gt-res-tools-r\"><div id=\"gt-res-undo\"></div></div></div></div><div id=\"gt-community-card-c\"></div><div class=\"translit\" dir=\"ltr\" id=\"res-translit\" style=\"text-align:\"></div></div></div></div><div id=\"gt-promo-lr\"></div><div id=\"gt-lc\" style=\"display:none\"></div></div><div id=\"gt-ft\"></div></div></div></div></form></div><script>{window.jstiming.load.tick('rsw');function _njClk(e){document.body.className+=' nj';var i=new Image();i.src='/gen204?njclk=1';i.onload=function(){i.onload=null;};}var slgms=document.getElementById('gt-sl-gms');var tlgms= document.getElementById('gt-tl-gms');slgms.onclick=tlgms.onclock=_njClk;document.getElementById('js').value = 'y';}</script><div id=\"gt-dd-filelink-help\" style=\"display:none\">Drag and drop file or link here to translate the document or web page.</div><div id=\"gt-dd-link-help\" style=\"display:none\">Drag and drop link here to translate the web page.</div><div id=\"gt-dd-file-error\" style=\"display:none\">We do not support the type of file you drop. Please try other file types.</div><div id=\"gt-dd-link-error\" style=\"display:none\">We do not support the type of link you drop. Please try link of other types.</div><div id=\"gt-ft-res\"><span id=\"ft-l\"><a href=\"http://www.google.com/url?rs=rssf&amp;q=http://translate.google.com/about/intl/en_ALL/\">About Google Translate</a><a href=\"http://www.google.com/url?rs=rssf&amp;q=//translate.google.com/community\">Community</a><a href=\"http://www.google.com/url?rs=rssf&amp;q=http://www.google.com/mobile/translate/\">Mobile</a><div class=\"goog-toolbar-separator\"></div><span style=\"position: relative\"><a href=\"https://google.com/+GoogleTranslate\"><span id=\"gt-gplus\"></span></a><a href=\"https://googletranslate.blogspot.com/\"><span id=\"gt-blog\"></span></a></span></span><span id=\"ft-r\"><a href=\"http://www.google.com/url?rs=rssf&amp;q=http://www.google.com/intl/en/about/%3Futm_source%3Dtranslate.google.com%26utm_medium%3Dreferral%26utm_campaign%3Dtranslate-footer-en\">About Google</a><a href=\"http://www.google.com/url?rs=rssf&amp;q=http://www.google.com/intl/en/policies/\">Privacy &amp; Terms</a><a href=\"http://www.google.com/url?rs=rssf&amp;q=https://www.google.com/support/translate/%3Fhl%3Den\">Help</a><a href=\"javascript:void(0);\" id=\"gt-feedback\"><span id=\"gt-feedback-icon\"></span><span id=\"gt-feedback-caption\">Send feedback</span></a></span></div> <script>MSG_GOOGLE_TRANSLATE='Google Translate';common_translation_tooltip='Common translation';detect_language='Detect language';n_more_label='+ %1$s more';rare_translation_tooltip='Rare translation';source_language_detected='%1$s - detected';uncommon_translation_tooltip='Uncommon translation';url_hyperlink_tooltip='View translated webpage';ENABLE_QUERY_AUTOCORRECTION=true;EXPERIMENT_IDS = ['17259','15700023','15700124','15700149','15700186','15700191','15700201','15700214'];FILE_TRANSLATION_PATH='//translate.googleusercontent.com/translate_f';TEXT_TRANSLATION_PATH='/';TTS_TEXT_SIZE_LIMIT=200;TRANSLATED_TEXT='';var ctr, h;tld='.com';FEATURE_STICKINESS=[[null,null,null,false,\"auto\",\"en\"],true];NND=[['id','en'],['en','id'],['hi','en'],['en','hi'],['en','ar'],['ar','en'],['en','zh-CN'],['en','zh-TW'],['en','zh'],['zh-CN','en'],['zh-TW','en'],['zh','en'],['en','fr'],['fr','en'],['en','ja'],['ja','en'],['tr','en'],['en','tr'],['pt','en'],['en','pt'],['en','ru'],['ru','en'],['en','es'],['es','en'],['de','en'],['en','de'],['ko','en'],['en','ko'],['iw','en'],['en','iw'],['pa','en'],['en','pa'],['gu','en'],['en','gu'],['bn','en'],['en','bn'],['mr','en'],['en','mr'],['vi','en'],['en','vi'],['th','en'],['en','th'],['pl','en'],['en','pl'],['ta','en'],['en','ta'],['te','en'],['en','te'],['ka','en'],['en','ka'],['ml','en'],['en','ml'],['af','en'],['en','af'],['da','en'],['en','da'],['is','en'],['en','is'],['nl','en'],['en','nl'],['no','en'],['en','no'],['sv','en'],['en','sv'],['bg','en'],['en','bg'],['cs','en'],['en','cs'],['el','en'],['en','el'],['ro','en'],['en','ro'],['sk','en'],['en','sk'],['it','en'],['en','it'],['fi','en'],['en','fi'],['hu','en'],['en','hu'],['hr','en'],['en','hr'],['sq','en'],['en','sq'],['kn','en'],['en','kn'],['pt','es'],['et','en'],['en','et'],['lt','en'],['en','lt'],['lv','en'],['en','lv'],['uk','en'],['en','uk'],['fa','en'],['en','fa'],['bs','en'],['en','bs'],['mk','en'],['en','mk'],['sl','en'],['en','sl'],['sr','en'],['en','sr'],['si','en'],['en','si'],['lo','en'],['en','lo'],['am','en'],['en','am'],['km','en'],['en','km'],['my','en'],['en','my'],['az','en'],['en','az'],['hy','en'],['en','hy'],['kk','en'],['en','kk'],['ky','en'],['en','ky'],['uz','en'],['en','uz'],['ny','en'],['en','ny'],['rw','en'],['en','rw'],['sn','en'],['en','sn'],['st','en'],['en','st'],['sw','en'],['en','sw'],['xh','en'],['en','xh'],['zu','en'],['en','zu'],['ku','en'],['en','ku'],['ne','en'],['en','ne'],['ps','en'],['en','ps'],['sd','en'],['en','sd'],['ur','en'],['en','ur'],['ceb','en'],['en','ceb'],['jw','en'],['en','jw'],['ms','en'],['en','ms'],['mn','en'],['en','mn'],['su','en'],['en','su'],['tl','en'],['en','tl'],['ca','en'],['en','ca'],['co','en'],['en','co'],['eu','en'],['en','eu'],['gl','en'],['en','gl'],['mt','en'],['en','mt'],['mi','en'],['en','mi'],['haw','en'],['en','haw'],['sm','en'],['en','sm'],['yo','en'],['en','yo'],['ig','en'],['en','ig'],['ha','en'],['en','ha'],['be','en'],['en','be'],['fy','en'],['en','fy'],['ht','en'],['en','ht'],['lb','en'],['en','lb'],['mg','en'],['en','mg'],['yi','en'],['en','yi'],['hmn','en'],['en','hmn'],['so','en'],['en','so'],['tg','en'],['en','tg'],['tk','en'],['en','tk'],['tt','en'],['en','tt'],['ug','en'],['en','ug'],['cy','en'],['en','cy'],['eo','en'],['en','eo'],['ga','en'],['en','ga'],['gd','en'],['en','gd'],['la','en'],['en','la'],['or','en'],['en','or']];NNDX=[['zh','zh'],['ja','ko'],['ko','ja'],['uk','ru'],['ru','uk'],['es','ca'],['ca','es'],['cs','sk'],['sk','cs']];</script><script>window.jstiming.load.tick('prt');</script><script src=\"/translate/releases/twsfe_w_20180917_RC02/r/js/desktop_module_main.js\"></script><script>Init();</script></div> </body></html>\n"
     ]
    }
   ],
   "source": [
    "# ! pip install mechanicalsoup\n",
    "import mechanicalsoup\n",
    "\n",
    "browser = mechanicalsoup.StatefulBrowser()\n",
    "browser.open(\"https://translate.google.com/#auto/en/bindi khana achha hota hai\")\n",
    "print(browser.get_current_page())\n",
    "browser.launch_browser()"
   ]
  }
 ],
 "metadata": {
  "kernelspec": {
   "display_name": "Python 3",
   "language": "python",
   "name": "python3"
  },
  "language_info": {
   "codemirror_mode": {
    "name": "ipython",
    "version": 3
   },
   "file_extension": ".py",
   "mimetype": "text/x-python",
   "name": "python",
   "nbconvert_exporter": "python",
   "pygments_lexer": "ipython3",
   "version": "3.6.1"
  }
 },
 "nbformat": 4,
 "nbformat_minor": 2
}
