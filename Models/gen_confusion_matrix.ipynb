{
 "cells": [
  {
   "cell_type": "code",
   "execution_count": 46,
   "metadata": {},
   "outputs": [],
   "source": [
    "confusion_matrix = [[ 683,   69,   10,   95,   15,  153,  487,   63,   83,   59],\n",
    "                    [  56,  509,    6,   13,    5,  213,  154,    9,   29,   16],\n",
    "                    [  52,   10,   66,   39,   11,   27,  197,   12,  115,   23],\n",
    "                    [  52,    7,   11, 630,   55,   21 ,  68,   3,  102 ,   9],\n",
    "                    [  19,    3,    5,   62,  659,   18,   15,    3,   32,    1],\n",
    "                    [  90,  145,    3,   25,   23, 1042,  302,   15,   72,   15],\n",
    "                    [ 211,   55,   30,   53,   20,  222, 6727,   20,  189,   49],\n",
    "                    [  59,    3,    0,   16,    2,   13,   28,  350,   63,    0],\n",
    "                    [  87,   41,   17,  152,   43,   56,  342,   31, 3798,   54],\n",
    "                    [  14,    8,    2,    3,    1 ,   6,  35,    0,   42,  496]]"
   ]
  },
  {
   "cell_type": "code",
   "execution_count": 47,
   "metadata": {
    "collapsed": true
   },
   "outputs": [],
   "source": [
    "import seaborn as sns"
   ]
  },
  {
   "cell_type": "code",
   "execution_count": 49,
   "metadata": {
    "collapsed": true
   },
   "outputs": [],
   "source": [
    "%matplotlib inline"
   ]
  },
  {
   "cell_type": "code",
   "execution_count": 51,
   "metadata": {
    "collapsed": true
   },
   "outputs": [],
   "source": [
    "confusion_matrix = np.asarray(confusion_matrix)"
   ]
  },
  {
   "cell_type": "code",
   "execution_count": 53,
   "metadata": {
    "collapsed": true
   },
   "outputs": [],
   "source": [
    "modified_matrix = confusion_matrix/confusion_matrix.sum(axis=1)"
   ]
  },
  {
   "cell_type": "code",
   "execution_count": 56,
   "metadata": {},
   "outputs": [
    {
     "data": {
      "image/png": "[encoded data removed]",
      "text/plain": [
       "<matplotlib.figure.Figure at 0x1de644d58d0>"
      ]
     },
     "metadata": {},
     "output_type": "display_data"
    }
   ],
   "source": [
    "fig = sns.heatmap(modified_matrix)"
   ]
  },
  {
   "cell_type": "code",
   "execution_count": 59,
   "metadata": {},
   "outputs": [
    {
     "name": "stdout",
     "output_type": "stream",
     "text": [
      "''conf_matrix')' was not found in history, as a file, url, nor in the user namespace.\n"
     ]
    }
   ],
   "source": []
  },
  {
   "cell_type": "code",
   "execution_count": null,
   "metadata": {
    "collapsed": true
   },
   "outputs": [],
   "source": []
  }
 ],
 "metadata": {
  "kernelspec": {
   "display_name": "Python 3",
   "language": "python",
   "name": "python3"
  },
  "language_info": {
   "codemirror_mode": {
    "name": "ipython",
    "version": 3
   },
   "file_extension": ".py",
   "mimetype": "text/x-python",
   "name": "python",
   "nbconvert_exporter": "python",
   "pygments_lexer": "ipython3",
   "version": "3.6.1"
  }
 },
 "nbformat": 4,
 "nbformat_minor": 2
}
